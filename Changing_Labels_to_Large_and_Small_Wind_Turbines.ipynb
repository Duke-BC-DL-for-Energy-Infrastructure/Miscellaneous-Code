{
  "nbformat": 4,
  "nbformat_minor": 0,
  "metadata": {
    "colab": {
      "name": "Changing Labels to Large and Small Wind Turbines.ipynb",
      "provenance": [],
      "collapsed_sections": []
    },
    "kernelspec": {
      "name": "python3",
      "display_name": "Python 3"
    }
  },
  "cells": [
    {
      "cell_type": "code",
      "metadata": {
        "id": "-qbrdtd21QZt"
      },
      "source": [
        "!mkdir -p data/\n",
        "\n",
        "# Download images and labels from Duke Box, and then unzip them\n",
        "!wget -nc -O data/images.zip https://duke.box.com/shared/static/rttn4ujt4h9sbuba4poibdvtlqr7fhvz.zip\n",
        "!wget -nc -O data/labels.zip https://duke.box.com/shared/static/psea4em0oh1ng99neowslj9hfz79sckn.zip\n",
        "\n",
        "!unzip -n -q data/images.zip -d data\n",
        "!unzip -n -q data/labels.zip -d data"
      ],
      "execution_count": null,
      "outputs": []
    },
    {
      "cell_type": "code",
      "metadata": {
        "id": "HwI9yNsQoy1u"
      },
      "source": [
        "def get_state(name):\n",
        "    return name.split('_')[2]\n",
        "\n",
        "def get_region(name):\n",
        "    state = get_state(name)\n",
        "    for key, val in regions.items():\n",
        "        if state in val:\n",
        "            return key\n",
        "\n",
        "regions = {'SW' : ['CA', 'AZ', 'TX', 'NM', 'NV', 'UT', 'CO'], \n",
        "              'NE': ['VT', 'MD', 'ME', 'NH', 'PA', 'NJ', 'NY', 'MA', 'DE'],\n",
        "              'NW': ['WA', 'ID', 'OR', 'MT'],\n",
        "              'EM': ['MI', 'MN', 'MO', 'WI', 'IN', 'IA', 'IL', 'OH'],\n",
        "              'WM': ['ND', 'OK', 'KS', 'SD', 'NE']}"
      ],
      "execution_count": 3,
      "outputs": []
    },
    {
      "cell_type": "code",
      "metadata": {
        "id": "5OMcjG3b05im",
        "outputId": "f05ec8be-e8cc-46f2-8e70-075ad0591c9e",
        "colab": {
          "base_uri": "https://localhost:8080/",
          "height": 350
        }
      },
      "source": [
        "import numpy as np\n",
        "import glob\n",
        "import matplotlib.pyplot as plt\n",
        "import seaborn as sns\n",
        "\n",
        "# Get all of the label paths\n",
        "label_paths = glob.glob('data/labels/*.txt')\n",
        "naip_paths = [path for path in label_paths if path.split('/')[-1].split('.')[0].split('_')[0] == 'naip']\n",
        "non_naip_paths = [path for path in label_paths if path.split('/')[-1].split('.')[0].split('_')[0] != 'naip']\n",
        "non_SW_paths = [path for path in naip_paths if get_region(path.split('/')[-1]) != 'SW']\n",
        "label_paths = non_SW_paths + non_naip_paths\n",
        "\n",
        "print(len(label_paths))\n",
        "\n",
        "# List to store all of the box sizes\n",
        "boxes=[]\n",
        "\n",
        "# If the pixel area of a box is below the threshold, we count it as a small turbine\n",
        "threshold = 350\n",
        "\n",
        "small_turbines = 0\n",
        "count = 0\n",
        "\n",
        "# Loop through labels and turbines in each label, counting number of small turbines\n",
        "for label_path in label_paths:\n",
        "    label = open(label_path, 'r')\n",
        "    for line in label:\n",
        "        count+=1\n",
        "        height=float(line.split(\" \")[-2]) * 608\n",
        "        width=float(line.split(\" \")[-1]) * 608\n",
        "        area=height*width\n",
        "        if area < threshold:\n",
        "          small_turbines+=1\n",
        "        boxes.append(area)\n",
        "\n",
        "print(f\"Number of small turbines: {small_turbines}\")\n",
        "print(\"Total number of wind Turbines: {}\".format(count))\n",
        " \n",
        "# Plot histogram\n",
        "bins = np.arange(0, 6000, 50)\n",
        "fig,ax=plt.subplots(num=2)\n",
        "ax = plt.hist(boxes, bins)\n",
        "plt.xlabel(r\"Box Area by Pixel $(pixels^2)$\")\n",
        "plt.ylabel(\"Number of Boxes\")\n",
        "plt.title(\"Histogram of Box Sizes for the Real Overhead Imagery\")\n",
        "fig.savefig(\"turbine_sizes_real.png\")\n",
        "\n",
        "# Sort the boxes and write to a file for the raw data\n",
        "boxes.sort()\n",
        "with open('bboxes_sizes.txt', 'w') as f:\n",
        "  f.writelines(['%s\\n' % round(box) for box in boxes])"
      ],
      "execution_count": 18,
      "outputs": [
        {
          "output_type": "stream",
          "text": [
            "924\n",
            "Number of small turbines: 49\n",
            "Total number of wind Turbines: 1594\n"
          ],
          "name": "stdout"
        },
        {
          "output_type": "display_data",
          "data": {
            "image/png": "[encoded data removed]",
            "text/plain": [
              "<Figure size 432x288 with 1 Axes>"
            ]
          },
          "metadata": {
            "tags": [],
            "needs_background": "light"
          }
        }
      ]
    },
    {
      "cell_type": "code",
      "metadata": {
        "id": "T5Gdr6pn4Etg"
      },
      "source": [
        "# Get a specific image and display the bbox sizes for a visual reference of turbine size\n",
        "import cv2\n",
        "from google.colab.patches import cv2_imshow\n",
        "\n",
        "image_paths = glob.glob('data/images/*.jpg')\n",
        "label_paths = glob.glob('data/labels/*.txt')\n",
        "\n",
        "example_img_path = 'data/images/naip_1434_CA_WND_i1j0.jpg'\n",
        "example_label_path = 'data/labels/naip_1434_CA_WND_i1j0.txt'\n",
        "\n",
        "label = open(example_label_path, 'r')\n",
        "\n",
        "boxes=[]\n",
        "for line in label:\n",
        "  height=float(line.split(\" \")[-2]) * 608\n",
        "  width=float(line.split(\" \")[-1]) * 608\n",
        "  area=height*width\n",
        "  boxes.append(area)\n",
        "print(\"Areas of the ground truth label boxes in the image:\")\n",
        "print(boxes)\n",
        "\n",
        "img = cv2.imread(example_img_path)\n",
        "cv2_imshow(img)"
      ],
      "execution_count": null,
      "outputs": []
    },
    {
      "cell_type": "code",
      "metadata": {
        "id": "rZVUi7U82lKJ"
      },
      "source": [
        "# Make new labels, replacing the class with a 1 if the turbine has a bbox size less than the threshold\n",
        "!mkdir labels\n",
        "\n",
        "label_paths=glob.glob('data/labels/*.txt')\n",
        "threshold = 350\n",
        "\n",
        "for label_path in label_paths:\n",
        "    label = open(label_path, 'r')\n",
        "    label_id = label_path.split('/')[-1]\n",
        "\n",
        "    new_label = open('labels/{}'.format(label_id), 'w')\n",
        "\n",
        "    for line in label:\n",
        "        count+=1\n",
        "        height=float(line.split(\" \")[-2]) * 608\n",
        "        width=float(line.split(\" \")[-1]) * 608\n",
        "        area=height*width\n",
        "\n",
        "        if area < threshold:\n",
        "          end = line[2:]\n",
        "          line = \"1 \" + end\n",
        "        new_label.write(line)\n",
        "\n",
        "    label.close()\n",
        "        "
      ],
      "execution_count": null,
      "outputs": []
    },
    {
      "cell_type": "code",
      "metadata": {
        "id": "2_5PyDKuRM-b"
      },
      "source": [
        "!zip -r -q labels.zip labels"
      ],
      "execution_count": null,
      "outputs": []
    },
    {
      "cell_type": "code",
      "metadata": {
        "id": "B7kUR8yW3pr3"
      },
      "source": [
        "#!rm -rf new_labels"
      ],
      "execution_count": null,
      "outputs": []
    }
  ]
}