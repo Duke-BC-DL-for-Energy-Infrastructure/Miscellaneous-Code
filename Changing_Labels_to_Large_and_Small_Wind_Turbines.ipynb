{
  "nbformat": 4,
  "nbformat_minor": 0,
  "metadata": {
    "colab": {
      "name": "Changing Labels to Large and Small Wind Turbines.ipynb",
      "provenance": [],
      "collapsed_sections": []
    },
    "kernelspec": {
      "name": "python3",
      "display_name": "Python 3"
    }
  },
  "cells": [
    {
      "cell_type": "code",
      "metadata": {
        "id": "-qbrdtd21QZt"
      },
      "source": [
        "!mkdir -p data/\n",
        "\n",
        "# Download images and labels from Duke Box, and then unzip them\n",
        "!wget -nc -O data/images.zip https://duke.box.com/shared/static/gc6g6054alnjtp0isdcccuxdr5wl59xy.zip\n",
        "!wget -nc -O data/labels.zip https://duke.box.com/shared/static/nawqed2wofslp2dw5d9j17i35mmb0ul5.zip\n",
        "\n",
        "!unzip -n -q data/images.zip -d data\n",
        "!unzip -n -q data/labels.zip -d data"
      ],
      "execution_count": null,
      "outputs": []
    },
    {
      "cell_type": "code",
      "metadata": {
        "id": "5OMcjG3b05im"
      },
      "source": [
        "import numpy as np\n",
        "import glob\n",
        "import matplotlib.pyplot as plt\n",
        "import seaborn as sns\n",
        "\n",
        "# Get all of the label paths\n",
        "label_paths = glob.glob('data/labels/*.txt')\n",
        "\n",
        "# List to store all of the box sizes\n",
        "boxes=[]\n",
        "\n",
        "# If the pixel area of a box is below the threshold, we count it as a small turbine\n",
        "threshold = 350\n",
        "small_turbines = 0\n",
        "count = 0\n",
        "\n",
        "for label_path in label_paths:\n",
        "    label = open(label_path, 'r')\n",
        "    for line in label:\n",
        "        count+=1\n",
        "        height=float(line.split(\" \")[-2]) * 608\n",
        "        width=float(line.split(\" \")[-1]) * 608\n",
        "        area=height*width\n",
        "        if area < threshold:\n",
        "          small_turbines+=1\n",
        "        boxes.append(area)\n",
        "\n",
        "print(f\"Number of small turbines: {small_turbines}\")\n",
        "print(\"Total number of wind Turbines: {}\".format(count))\n",
        " \n",
        "bins = np.arange(0, 6000, 20)\n",
        "fig,ax=plt.subplots(num=2)\n",
        "ax = plt.hist(boxes, bins)\n",
        "plt.xlabel(r\"Box Area by Pixel $(pixels^2)$\")\n",
        "plt.ylabel(\"Number of Boxes\")\n",
        "plt.title(\"Histogram of Box Sizes for the Real Overhead Imagery\")\n",
        "fig.savefig(\"turbine_sizes_real.png\")\n"
      ],
      "execution_count": null,
      "outputs": []
    },
    {
      "cell_type": "code",
      "metadata": {
        "id": "T5Gdr6pn4Etg"
      },
      "source": [
        "import cv2\n",
        "from google.colab.patches import cv2_imshow\n",
        "\n",
        "image_paths = glob.glob('data/images/*.jpg')\n",
        "label_paths = glob.glob('data/labels/*.txt')\n",
        "\n",
        "example_img_path = 'data/images/naip_1434_CA_WND_i1j0.jpg'\n",
        "example_label_path = 'data/labels/naip_1434_CA_WND_i1j0.txt'\n",
        "\n",
        "label = open(example_label_path, 'r')\n",
        "\n",
        "boxes=[]\n",
        "for line in label:\n",
        "  height=float(line.split(\" \")[-2]) * 608\n",
        "  width=float(line.split(\" \")[-1]) * 608\n",
        "  area=height*width\n",
        "  boxes.append(area)\n",
        "print(\"Areas of the ground truth label boxes in the image:\")\n",
        "print(boxes)\n",
        "\n",
        "img = cv2.imread(example_img_path)\n",
        "cv2_imshow(img)"
      ],
      "execution_count": null,
      "outputs": []
    },
    {
      "cell_type": "code",
      "metadata": {
        "id": "rZVUi7U82lKJ"
      },
      "source": [
        "!mkdir labels\n",
        "\n",
        "label_paths=glob.glob('data/labels/*.txt')\n",
        "threshold = 350\n",
        "\n",
        "for label_path in label_paths:\n",
        "    label = open(label_path, 'r')\n",
        "    label_id = label_path.split('/')[-1]\n",
        "\n",
        "    new_label = open('labels/{}'.format(label_id), 'w')\n",
        "\n",
        "    for line in label:\n",
        "        count+=1\n",
        "        height=float(line.split(\" \")[-2]) * 608\n",
        "        width=float(line.split(\" \")[-1]) * 608\n",
        "        area=height*width\n",
        "\n",
        "        if area < threshold:\n",
        "          end = line[2:]\n",
        "          line = \"1 \" + end\n",
        "        new_label.write(line)\n",
        "\n",
        "    label.close()\n",
        "        "
      ],
      "execution_count": 7,
      "outputs": []
    },
    {
      "cell_type": "code",
      "metadata": {
        "id": "2_5PyDKuRM-b"
      },
      "source": [
        "!zip -r -q labels.zip labels"
      ],
      "execution_count": null,
      "outputs": []
    },
    {
      "cell_type": "code",
      "metadata": {
        "id": "B7kUR8yW3pr3"
      },
      "source": [
        "#!rm -rf new_labels"
      ],
      "execution_count": null,
      "outputs": []
    }
  ]
}